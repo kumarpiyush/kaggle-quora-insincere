{
 "cells": [
  {
   "cell_type": "code",
   "execution_count": null,
   "metadata": {},
   "outputs": [],
   "source": [
    "import main\n",
    "import importlib\n",
    "importlib.reload(main)\n",
    "\n",
    "import logging\n",
    "import os\n",
    "import pandas\n",
    "import nltk\n",
    "import time\n",
    "import numpy as np\n",
    "from collections import Counter\n",
    "\n",
    "from sklearn.feature_extraction.text import CountVectorizer\n",
    "from sklearn.linear_model import LogisticRegression\n",
    "from sklearn.pipeline import Pipeline\n",
    "from sklearn.metrics import f1_score\n",
    "from sklearn.model_selection import train_test_split\n",
    "\n",
    "import torch\n",
    "import torch.nn as nn\n",
    "import torchtext.vocab as torchvocab"
   ]
  },
  {
   "cell_type": "code",
   "execution_count": null,
   "metadata": {},
   "outputs": [],
   "source": [
    "dm = main.DataManager()\n",
    "\n",
    "train_set = main.DataManager.load_data(os.path.join(main.Constants.Data.datadir, main.Constants.Data.train))\n",
    "train_set, val_set = main.DataManager.train_val_split(train_set)\n",
    "test_set = main.DataManager.load_data(os.path.join(main.Constants.Data.datadir, main.Constants.Data.test))\n",
    "\n",
    "train_set = train_set[:1000]\n",
    "val_set = val_set[:1000]\n",
    "test_set = test_set[:1000]\n",
    "\n",
    "train_set[\"token_ids\"] = dm.sentences_to_indices(train_set.question_text)\n",
    "val_set[\"token_ids\"] = dm.sentences_to_indices(val_set.question_text)\n",
    "test_set[\"token_ids\"] = dm.sentences_to_indices(test_set.question_text)"
   ]
  },
  {
   "cell_type": "code",
   "execution_count": null,
   "metadata": {},
   "outputs": [],
   "source": [
    "model = main.LstmModel(dm.embedding_layer)"
   ]
  },
  {
   "cell_type": "code",
   "execution_count": null,
   "metadata": {},
   "outputs": [],
   "source": [
    "class Trainer() :\n",
    "    def __init__(self, model) :\n",
    "        self.model = model\n",
    "        self.optimizer = torch.optim.Adadelta([p for p in model.parameters() if p.requires_grad])\n",
    "\n",
    "    def train(self, train_set) :\n",
    "        for eps in range(25) :\n",
    "            logging.info(\"Epoch : {}\".format(eps))\n",
    "\n",
    "            for batch in main.DataManager.batch(train_set) :\n",
    "                self.optimizer.zero_grad()\n",
    "                loss = self.model.step(main.DataManager.batch_indices_to_tensor(batch.token_ids), torch.from_numpy(batch.target.as_matrix()))\n",
    "                logging.info(loss)\n",
    "                self.optimizer.step()\n",
    "            \n",
    "            print(model.calculate_f1(main.DataManager.batch_indices_to_tensor(train_set.token_ids), torch.from_numpy(train_set.target.as_matrix())))\n",
    "        return model.predict(main.DataManager.batch_indices_to_tensor(train_set.token_ids))"
   ]
  },
  {
   "cell_type": "code",
   "execution_count": null,
   "metadata": {},
   "outputs": [],
   "source": [
    "trainer = Trainer(model)\n",
    "pred = trainer.train(train_set)"
   ]
  }
 ],
 "metadata": {
  "kernelspec": {
   "display_name": "Python 3",
   "language": "python",
   "name": "python3"
  },
  "language_info": {
   "codemirror_mode": {
    "name": "ipython",
    "version": 3
   },
   "file_extension": ".py",
   "mimetype": "text/x-python",
   "name": "python",
   "nbconvert_exporter": "python",
   "pygments_lexer": "ipython3",
   "version": "3.5.2"
  }
 },
 "nbformat": 4,
 "nbformat_minor": 2
}
